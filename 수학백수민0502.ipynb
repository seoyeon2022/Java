{
  "nbformat": 4,
  "nbformat_minor": 0,
  "metadata": {
    "colab": {
      "provenance": [],
      "include_colab_link": true
    },
    "kernelspec": {
      "name": "python3",
      "display_name": "Python 3"
    },
    "language_info": {
      "name": "python"
    }
  },
  "cells": [
    {
      "cell_type": "markdown",
      "metadata": {
        "id": "view-in-github",
        "colab_type": "text"
      },
      "source": [
        "<a href=\"https://colab.research.google.com/github/seoyeon2022/Java/blob/main/%EC%88%98%ED%95%99%EB%B0%B1%EC%88%98%EB%AF%BC0502.ipynb\" target=\"_parent\"><img src=\"https://colab.research.google.com/assets/colab-badge.svg\" alt=\"Open In Colab\"/></a>"
      ]
    },
    {
      "cell_type": "markdown",
      "source": [
        "# 중간고사 문제풀이"
      ],
      "metadata": {
        "id": "Kk3ZtOtrXm3-"
      }
    },
    {
      "cell_type": "code",
      "source": [
        "mydata = []\n",
        "for i in range(5):\n",
        "    fruit = input('과일입력:')\n",
        "    mydata.append(fruit)\n",
        "print('mydata =',mydata)"
      ],
      "metadata": {
        "colab": {
          "base_uri": "https://localhost:8080/"
        },
        "id": "bvrVib7LSG88",
        "outputId": "93c62028-854d-44dd-a619-53e5caff4060"
      },
      "execution_count": null,
      "outputs": [
        {
          "output_type": "stream",
          "name": "stdout",
          "text": [
            "과일입력:사과\n",
            "과일입력:사과\n",
            "과일입력:포도\n",
            "과일입력:딸기\n",
            "과일입력:레몬\n",
            "mydata = ['사과', '사과', '포도', '딸기', '레몬']\n"
          ]
        }
      ]
    },
    {
      "cell_type": "code",
      "execution_count": null,
      "metadata": {
        "id": "AQSRmpEsQGK5"
      },
      "outputs": [],
      "source": [
        "mydata = []\n",
        "for i in range(5):\n",
        "    fruit = input('과일입력:')\n",
        "    mydata.append(fruit)\n",
        "print('mydata =',mydata)\n",
        "\n",
        "def f_counts(data):\n",
        "    counts = {}            #공백 딕셔너리\n",
        "    for fruit in data:            fruit --> ['사과', '사과', '포도', '레몬', '딸기']\n",
        "        if fruit not in counts:\n",
        "            counts[fruit] = 0              #counts -->{'사과':0},           {'포도':0}\n",
        "        counts[fruit] += 1                 #counnts\n",
        "    return counts\n",
        "\n",
        "result = f_counts(mydata)\n",
        "print(f'입력한 과일의 종류의 개수: {result}')\n"
      ]
    },
    {
      "cell_type": "code",
      "source": [
        "num = int(input('두 자리수 입력:')) #num-->23\n",
        "for i in range(1,num+1):            #i -->1,2,3,,,,7,,,14,,,21,22,23\n",
        "    if i%7!=0:\n",
        "        continue\n",
        "    print(f'7의 배수:',i)          #               7,,,14,,,21\n",
        "\n",
        "hap = 0\n",
        "while num>0:             #num --> 23>0(True), 2>0(True), 0>0(False)\n",
        "    number = num%10      #number --> 23%10,   2%10\n",
        "    hap += number        #hap --> 0+3,        3+2\n",
        "    num =num//10         #num --> 23//10      2//10\n",
        "print(f'입력한 두 자리수의 합은 {hap}')"
      ],
      "metadata": {
        "id": "70nFnOcuTQDj",
        "colab": {
          "base_uri": "https://localhost:8080/"
        },
        "outputId": "c790a809-1078-43d4-d34a-0837c64f7abb"
      },
      "execution_count": null,
      "outputs": [
        {
          "output_type": "stream",
          "name": "stdout",
          "text": [
            "두 자리수 입력:23\n",
            "7의 배수: 7\n",
            "7의 배수: 14\n",
            "7의 배수: 21\n",
            "입력한 두 자리수의 합은 5\n"
          ]
        }
      ]
    },
    {
      "cell_type": "code",
      "source": [
        "def getAddr(data_list):\n",
        "    result = []\n",
        "    for x in data_list:      #['Seoul', 'Incheon', 'Jeju']\n",
        "        result.append(x[:3])\n",
        "    return result\n",
        "\n",
        "getAddr(['Seoul','Incheon,','Jeju'])"
      ],
      "metadata": {
        "colab": {
          "base_uri": "https://localhost:8080/"
        },
        "id": "ZHLb6xBCU-64",
        "outputId": "71349bb5-85bd-442c-d033-0d33ec458dac"
      },
      "execution_count": null,
      "outputs": [
        {
          "output_type": "execute_result",
          "data": {
            "text/plain": [
              "['Seo', 'Inc', 'Jej']"
            ]
          },
          "metadata": {},
          "execution_count": 4
        }
      ]
    },
    {
      "cell_type": "code",
      "source": [
        "a = [3,5,7]\n",
        "b = a\n",
        "b[0] = b[0] -2\n",
        "a[1] = 10\n",
        "print('a=',a, 'b=',b)\n",
        "print(a is b)"
      ],
      "metadata": {
        "colab": {
          "base_uri": "https://localhost:8080/"
        },
        "id": "MNTeNS_IVgEy",
        "outputId": "06291176-dfa3-4069-e0ac-0f840fff460c"
      },
      "execution_count": null,
      "outputs": [
        {
          "output_type": "stream",
          "name": "stdout",
          "text": [
            "a= [1, 10, 7] b= [1, 10, 7]\n",
            "True\n"
          ]
        }
      ]
    },
    {
      "cell_type": "code",
      "source": [
        "num = 0\n",
        "i = 1               #i__>1<8,2<8,3<8\n",
        "    if i %% 3 == 0:              3%3==0\n",
        "        break\n",
        "    i += 1          #i-->2,  3\n",
        "    num += i        #num-->2, 2+3\n",
        "print(num)"
      ],
      "metadata": {
        "id": "IXyqsc9GV4Oa"
      },
      "execution_count": null,
      "outputs": []
    },
    {
      "cell_type": "code",
      "source": [
        "def asterisk_test(a,b,*args):\n",
        "    print(args)\n",
        "    return b*sum(args) #2*12\n",
        "\n",
        "print(asterisk_test(1,2,3,4,5))"
      ],
      "metadata": {
        "colab": {
          "base_uri": "https://localhost:8080/"
        },
        "id": "NPpN5aslWZth",
        "outputId": "c8cf3cfc-9d49-4ee9-df41-0d6d0125f443"
      },
      "execution_count": null,
      "outputs": [
        {
          "output_type": "stream",
          "name": "stdout",
          "text": [
            "(3, 4, 5)\n",
            "24\n"
          ]
        }
      ]
    },
    {
      "cell_type": "code",
      "source": [
        "def asterisk_test(a,b,*args):\n",
        "    print(args)\n",
        "    return b*max(args) #2*5\n",
        "\n",
        "print(asterisk_test(1,2,3,4,5))"
      ],
      "metadata": {
        "colab": {
          "base_uri": "https://localhost:8080/"
        },
        "id": "Ssg5tJ8GW3UL",
        "outputId": "0e7b3021-4d36-45f3-f605-c4b5a642e697"
      },
      "execution_count": null,
      "outputs": [
        {
          "output_type": "stream",
          "name": "stdout",
          "text": [
            "(3, 4, 5)\n",
            "10\n"
          ]
        }
      ]
    },
    {
      "cell_type": "code",
      "source": [
        "Mydict = {'1':1, '2:':2}\n",
        "Copy = Mydict\n",
        "mydict['1'] = 3\n",
        "print(Copy)"
      ],
      "metadata": {
        "id": "9wIj2MbCXNaX"
      },
      "execution_count": null,
      "outputs": []
    },
    {
      "cell_type": "code",
      "source": [
        "Mydict = {'1':1, '2:':2}\n",
        "Copy = Mydict\n",
        "Mydict['1'] = 3\n",
        "result = Mydict['1']+Copy['1']\n",
        "print(result)"
      ],
      "metadata": {
        "colab": {
          "base_uri": "https://localhost:8080/"
        },
        "id": "p8YpDKydW6y3",
        "outputId": "d6076381-0152-41a2-e9c1-0cabdacb4d6e"
      },
      "execution_count": null,
      "outputs": [
        {
          "output_type": "stream",
          "name": "stdout",
          "text": [
            "6\n"
          ]
        }
      ]
    },
    {
      "cell_type": "markdown",
      "source": [
        "# 8장"
      ],
      "metadata": {
        "id": "LY-_osh2Xrlx"
      }
    },
    {
      "cell_type": "code",
      "source": [
        "#join()\n",
        "colors = ['red','blue','green']\n",
        "result = '-'.join(colors)\n",
        "print(result)\n",
        "print(type(result))"
      ],
      "metadata": {
        "colab": {
          "base_uri": "https://localhost:8080/"
        },
        "id": "3XhCglx4XZ4d",
        "outputId": "d717837a-46c3-4360-ed4b-ee40e06f8b4e"
      },
      "execution_count": null,
      "outputs": [
        {
          "output_type": "stream",
          "name": "stdout",
          "text": [
            "red-blue-green\n",
            "<class 'str'>\n"
          ]
        }
      ]
    },
    {
      "cell_type": "markdown",
      "source": [
        "# split()함수: 특정값을 기준으로 리스트 형식으로 반환"
      ],
      "metadata": {
        "id": "5aZwPmnbZxB-"
      }
    },
    {
      "cell_type": "code",
      "source": [
        "#split()\n",
        "text = 'red-blue-green'\n",
        "print(text.split('-'))"
      ],
      "metadata": {
        "colab": {
          "base_uri": "https://localhost:8080/"
        },
        "id": "UR3PaMzHYNsV",
        "outputId": "9cec6c69-9844-4f14-e2b3-bac64dde538d"
      },
      "execution_count": null,
      "outputs": [
        {
          "output_type": "stream",
          "name": "stdout",
          "text": [
            "['red', 'blue', 'green']\n"
          ]
        }
      ]
    },
    {
      "cell_type": "code",
      "source": [
        "tt = 'python is fun'\n",
        "print(tt.split()) #공백을 기준으로 분리함"
      ],
      "metadata": {
        "colab": {
          "base_uri": "https://localhost:8080/"
        },
        "id": "CWMgAjEuYlhy",
        "outputId": "fb18ac9d-66f9-47c6-9153-80c914e3760e"
      },
      "execution_count": null,
      "outputs": [
        {
          "output_type": "stream",
          "name": "stdout",
          "text": [
            "['python', 'is', 'fun']\n"
          ]
        }
      ]
    },
    {
      "cell_type": "code",
      "source": [
        "name = 'hufs.ac.kr'\n",
        "a =name.split('.')\n",
        "print(a, type(a))"
      ],
      "metadata": {
        "colab": {
          "base_uri": "https://localhost:8080/"
        },
        "id": "81ENdCMyZRXQ",
        "outputId": "3fd6f564-f9f9-4c63-e8d2-eee985493ca2"
      },
      "execution_count": null,
      "outputs": [
        {
          "output_type": "stream",
          "name": "stdout",
          "text": [
            "['hufs', 'ac', 'kr'] <class 'list'>\n"
          ]
        }
      ]
    },
    {
      "cell_type": "code",
      "source": [
        "name = 'hufs.ac.kr'\n",
        "a, b, c =name.split('.') #언패킹\n",
        "print(a, b, c)"
      ],
      "metadata": {
        "colab": {
          "base_uri": "https://localhost:8080/"
        },
        "id": "GvkILkzUZacL",
        "outputId": "47a725b8-e54b-4afb-d37c-bde380d04114"
      },
      "execution_count": null,
      "outputs": [
        {
          "output_type": "stream",
          "name": "stdout",
          "text": [
            "hufs ac kr\n"
          ]
        }
      ]
    },
    {
      "cell_type": "code",
      "source": [
        "name = 'hufs.ac.kr'\n",
        "a, b, c =name.split('.') #언패킹\n",
        "print(a, type(a))\n",
        "print(b, type(b))\n",
        "print(c, type(c))\n"
      ],
      "metadata": {
        "colab": {
          "base_uri": "https://localhost:8080/"
        },
        "id": "a8nttQYrYrhw",
        "outputId": "e1005906-4903-4eba-ebf0-8a6553038125"
      },
      "execution_count": null,
      "outputs": [
        {
          "output_type": "stream",
          "name": "stdout",
          "text": [
            "hufs <class 'str'>\n",
            "ac <class 'str'>\n",
            "kr <class 'str'>\n"
          ]
        }
      ]
    },
    {
      "cell_type": "markdown",
      "source": [
        "# 리스트 함축포현"
      ],
      "metadata": {
        "id": "G11Fh90raXmg"
      }
    },
    {
      "cell_type": "code",
      "source": [
        "result = []\n",
        "for i in range(1,11):\n",
        "    result.append(i)\n",
        "print(result)"
      ],
      "metadata": {
        "colab": {
          "base_uri": "https://localhost:8080/"
        },
        "id": "8dwhu9wGY4G6",
        "outputId": "5a52ebbd-7035-4f66-80c7-5f0ed23105b7"
      },
      "execution_count": null,
      "outputs": [
        {
          "output_type": "stream",
          "name": "stdout",
          "text": [
            "[1, 2, 3, 4, 5, 6, 7, 8, 9, 10]\n"
          ]
        }
      ]
    },
    {
      "cell_type": "code",
      "source": [
        "#필터링\n",
        "result = [i for i in range(1,11)]\n",
        "print(result)"
      ],
      "metadata": {
        "colab": {
          "base_uri": "https://localhost:8080/"
        },
        "id": "w1R_k83CapeD",
        "outputId": "82df4a18-0693-4b8f-ac9d-a4f7805f9113"
      },
      "execution_count": null,
      "outputs": [
        {
          "output_type": "stream",
          "name": "stdout",
          "text": [
            "[1, 2, 3, 4, 5, 6, 7, 8, 9, 10]\n"
          ]
        }
      ]
    },
    {
      "cell_type": "code",
      "source": [
        "result = [i for i in range(1,11) if i%2==0]\n",
        "print(result)"
      ],
      "metadata": {
        "colab": {
          "base_uri": "https://localhost:8080/"
        },
        "id": "X_zciBMSazn2",
        "outputId": "e6ed51c5-6ba8-41b7-96e8-efcf6cb95f01"
      },
      "execution_count": null,
      "outputs": [
        {
          "output_type": "stream",
          "name": "stdout",
          "text": [
            "[2, 4, 6, 8, 10]\n"
          ]
        }
      ]
    },
    {
      "cell_type": "code",
      "source": [
        "result = []\n",
        "for i in range(1,10):\n",
        "    if i%2 ==0:\n",
        "        result.append(i)\n",
        "print(result) #이걸 위에 걸로 바꾼거"
      ],
      "metadata": {
        "colab": {
          "base_uri": "https://localhost:8080/"
        },
        "id": "_R63kPKnbCGA",
        "outputId": "f16e1875-fc86-418e-e01b-aa5c1f33b3c3"
      },
      "execution_count": null,
      "outputs": [
        {
          "output_type": "stream",
          "name": "stdout",
          "text": [
            "[2, 4, 6, 8]\n"
          ]
        }
      ]
    },
    {
      "cell_type": "code",
      "source": [
        "result = []\n",
        "for i in range(1,11):\n",
        "    if i%2==0:\n",
        "        result.append(i)\n",
        "    else:"
      ],
      "metadata": {
        "id": "RoSbasUbc_6S"
      },
      "execution_count": null,
      "outputs": []
    },
    {
      "cell_type": "code",
      "source": [
        "result = [i if i%2==0 else '홀수' for i in range(1,11)]\n",
        "print(result)"
      ],
      "metadata": {
        "colab": {
          "base_uri": "https://localhost:8080/"
        },
        "id": "pGFGv2jUd8ps",
        "outputId": "0000dda9-8984-46ef-9f3f-fe9e9f47b211"
      },
      "execution_count": null,
      "outputs": [
        {
          "output_type": "stream",
          "name": "stdout",
          "text": [
            "['홀수', 2, '홀수', 4, '홀수', 6, '홀수', 8, '홀수', 10]\n"
          ]
        }
      ]
    },
    {
      "cell_type": "code",
      "source": [
        "result = [i if i%2!=0 else '짝수' for i in range(1,11)]\n",
        "print(result)"
      ],
      "metadata": {
        "colab": {
          "base_uri": "https://localhost:8080/"
        },
        "id": "ERUbuVCJeNlq",
        "outputId": "9b2e7308-caef-42e9-f806-2fdf85043576"
      },
      "execution_count": null,
      "outputs": [
        {
          "output_type": "stream",
          "name": "stdout",
          "text": [
            "[1, '짝수', 3, '짝수', 5, '짝수', 7, '짝수', 9, '짝수']\n"
          ]
        }
      ]
    },
    {
      "cell_type": "code",
      "source": [
        "result = [i for i in range(1,11) if i%2!=0]\n",
        "print(result)"
      ],
      "metadata": {
        "colab": {
          "base_uri": "https://localhost:8080/"
        },
        "id": "po-ozL5_eRwr",
        "outputId": "11b89616-ce0e-4ae6-cea4-03b5b00a8aee"
      },
      "execution_count": null,
      "outputs": [
        {
          "output_type": "stream",
          "name": "stdout",
          "text": [
            "[1, 3, 5, 7, 9]\n"
          ]
        }
      ]
    },
    {
      "cell_type": "code",
      "source": [
        "for i in 'Hello':\n",
        "    print(i)"
      ],
      "metadata": {
        "colab": {
          "base_uri": "https://localhost:8080/"
        },
        "id": "2T6MY6qOel0r",
        "outputId": "b7f6f620-94d4-4006-a66f-9cff28267213"
      },
      "execution_count": null,
      "outputs": [
        {
          "output_type": "stream",
          "name": "stdout",
          "text": [
            "H\n",
            "e\n",
            "l\n",
            "l\n",
            "o\n"
          ]
        }
      ]
    },
    {
      "cell_type": "code",
      "source": [
        "for i in 'Hello':\n",
        "    for j in 'python':\n",
        "        print(i+j)"
      ],
      "metadata": {
        "colab": {
          "base_uri": "https://localhost:8080/"
        },
        "id": "hSy0VvlTe2G3",
        "outputId": "6d80e3a5-2918-4c2a-cd7f-4e8237b2b303"
      },
      "execution_count": null,
      "outputs": [
        {
          "output_type": "stream",
          "name": "stdout",
          "text": [
            "Hp\n",
            "Hy\n",
            "Ht\n",
            "Hh\n",
            "Ho\n",
            "Hn\n",
            "ep\n",
            "ey\n",
            "et\n",
            "eh\n",
            "eo\n",
            "en\n",
            "lp\n",
            "ly\n",
            "lt\n",
            "lh\n",
            "lo\n",
            "ln\n",
            "lp\n",
            "ly\n",
            "lt\n",
            "lh\n",
            "lo\n",
            "ln\n",
            "op\n",
            "oy\n",
            "ot\n",
            "oh\n",
            "oo\n",
            "on\n"
          ]
        }
      ]
    },
    {
      "cell_type": "code",
      "source": [
        "a = '123'\n",
        "b = '456'\n",
        "result = [i+j for i in a for j in b]\n",
        "print(result)\n",
        "print(len(result))"
      ],
      "metadata": {
        "colab": {
          "base_uri": "https://localhost:8080/"
        },
        "id": "_2Ihz3W0e8iG",
        "outputId": "7eb186ab-3e3e-4ac0-d0c1-e54bfd69e7a0"
      },
      "execution_count": null,
      "outputs": [
        {
          "output_type": "stream",
          "name": "stdout",
          "text": [
            "['14', '15', '16', '24', '25', '26', '34', '35', '36']\n",
            "9\n"
          ]
        }
      ]
    },
    {
      "cell_type": "code",
      "source": [
        "a = 'Hello'\n",
        "b = 'python'\n",
        "result = [i+j for i in a for j in b]\n",
        "print(result)\n",
        "print(len(result))"
      ],
      "metadata": {
        "colab": {
          "base_uri": "https://localhost:8080/"
        },
        "id": "6AUrTALffTmb",
        "outputId": "a30eb478-4636-48e6-a70c-76617e395e9b"
      },
      "execution_count": null,
      "outputs": [
        {
          "output_type": "stream",
          "name": "stdout",
          "text": [
            "['Hp', 'Hy', 'Ht', 'Hh', 'Ho', 'Hn', 'ep', 'ey', 'et', 'eh', 'eo', 'en', 'lp', 'ly', 'lt', 'lh', 'lo', 'ln', 'lp', 'ly', 'lt', 'lh', 'lo', 'ln', 'op', 'oy', 'ot', 'oh', 'oo', 'on']\n",
            "30\n"
          ]
        }
      ]
    },
    {
      "cell_type": "code",
      "source": [
        "text = 'python is fun'\n",
        "print(text.upper())\n",
        "print(text.lower())\n",
        "print(len(text))"
      ],
      "metadata": {
        "colab": {
          "base_uri": "https://localhost:8080/"
        },
        "id": "ccEbtw5afq4n",
        "outputId": "13c88f3c-cbcb-4f8d-d324-924b69516ebb"
      },
      "execution_count": null,
      "outputs": [
        {
          "output_type": "stream",
          "name": "stdout",
          "text": [
            "PYTHON IS FUN\n",
            "python is fun\n",
            "13\n"
          ]
        }
      ]
    },
    {
      "cell_type": "code",
      "source": [
        "tt = 'python is fun'\n",
        "t = tt.split()       #문자열을 공백을 기준으로 리스트로 담아놈\n",
        "print(t)"
      ],
      "metadata": {
        "colab": {
          "base_uri": "https://localhost:8080/"
        },
        "id": "KODYQNvYf-LV",
        "outputId": "000fc9a3-0a73-4e09-f243-db387881e3fb"
      },
      "execution_count": null,
      "outputs": [
        {
          "output_type": "stream",
          "name": "stdout",
          "text": [
            "['python', 'is', 'fun']\n"
          ]
        }
      ]
    },
    {
      "cell_type": "code",
      "source": [
        "tt = 'python is fun'\n",
        "t = tt.split()\n",
        "print(t)                             #t --> ['python', 'is', 'fun']\n",
        "s = [[w.upper(),w.lower(),len(w)] for w in t]\n",
        "print(s)"
      ],
      "metadata": {
        "colab": {
          "base_uri": "https://localhost:8080/"
        },
        "id": "UTgxRgghgGFn",
        "outputId": "2d4f9677-b32f-4321-e905-8b52ea61f687"
      },
      "execution_count": null,
      "outputs": [
        {
          "output_type": "stream",
          "name": "stdout",
          "text": [
            "['python', 'is', 'fun']\n",
            "[['PYTHON', 'python', 6], ['IS', 'is', 2], ['FUN', 'fun', 3]]\n"
          ]
        }
      ]
    },
    {
      "cell_type": "code",
      "source": [
        "# s --> [['PYTHON', 'python', 6], ['IS', 'is', 2], ['FUN', 'fun', 3]]\n",
        "for i in s:\n",
        "    print(i)"
      ],
      "metadata": {
        "colab": {
          "base_uri": "https://localhost:8080/"
        },
        "id": "UgCrkULwg1Zc",
        "outputId": "ab99d109-c0c4-47da-e669-365eb4e01b2a"
      },
      "execution_count": null,
      "outputs": [
        {
          "output_type": "stream",
          "name": "stdout",
          "text": [
            "['PYTHON', 'python', 6]\n",
            "['IS', 'is', 2]\n",
            "['FUN', 'fun', 3]\n"
          ]
        }
      ]
    },
    {
      "cell_type": "code",
      "source": [
        "song = '''\n",
        "Yesterday all my troubles\n",
        "seemed so far away.\n",
        "Now it looks\n",
        "as though they're here to stay.\n",
        "Oh, I believe in yesterday.\n",
        "\n",
        "\n",
        "\n",
        "Suddenly I'm not half\n",
        "the man I used to be.\n",
        "There's a shadow hanging over me.\n",
        "Oh, yesterday came suddenly.\n",
        "\n",
        "\n",
        "\n",
        "Why she had to go,\n",
        "I don't know,\n",
        "she wouldn't say.\n",
        "I said something wrong,\n",
        "now I long for yesterday.\n",
        "\n",
        "\n",
        "\n",
        "Yesterday love was\n",
        "such an easy game to play.\n",
        "Now I need a place to hide away.\n",
        "Oh, I believe in yesterday.\n",
        "\n",
        "\n",
        "\n",
        "Why she had to go,\n",
        "I don't know,\n",
        "she wouldn't say.\n",
        "I said something wrong,\n",
        "now I long for yesterday.\n",
        "\n",
        "\n",
        "\n",
        "Yesterday love was\n",
        "such an easy game to play.\n",
        "Now I need a place to hide away.\n",
        "Oh, I believe in yesterday.\n",
        "\n",
        "\n",
        "\n",
        "Mm mm mm mm mm mm mm\n",
        "'''\n",
        "\n",
        "t= song.split()\n",
        "print(t)"
      ],
      "metadata": {
        "colab": {
          "base_uri": "https://localhost:8080/"
        },
        "id": "LWHOjTKHhAbV",
        "outputId": "c6ff1303-2af3-440c-8250-1d8e7bbf4bda"
      },
      "execution_count": null,
      "outputs": [
        {
          "output_type": "stream",
          "name": "stdout",
          "text": [
            "['Yesterday', 'all', 'my', 'troubles', 'seemed', 'so', 'far', 'away.', 'Now', 'it', 'looks', 'as', 'though', \"they're\", 'here', 'to', 'stay.', 'Oh,', 'I', 'believe', 'in', 'yesterday.', 'Suddenly', \"I'm\", 'not', 'half', 'the', 'man', 'I', 'used', 'to', 'be.', \"There's\", 'a', 'shadow', 'hanging', 'over', 'me.', 'Oh,', 'yesterday', 'came', 'suddenly.', 'Why', 'she', 'had', 'to', 'go,', 'I', \"don't\", 'know,', 'she', \"wouldn't\", 'say.', 'I', 'said', 'something', 'wrong,', 'now', 'I', 'long', 'for', 'yesterday.', 'Yesterday', 'love', 'was', 'such', 'an', 'easy', 'game', 'to', 'play.', 'Now', 'I', 'need', 'a', 'place', 'to', 'hide', 'away.', 'Oh,', 'I', 'believe', 'in', 'yesterday.', 'Why', 'she', 'had', 'to', 'go,', 'I', \"don't\", 'know,', 'she', \"wouldn't\", 'say.', 'I', 'said', 'something', 'wrong,', 'now', 'I', 'long', 'for', 'yesterday.', 'Yesterday', 'love', 'was', 'such', 'an', 'easy', 'game', 'to', 'play.', 'Now', 'I', 'need', 'a', 'place', 'to', 'hide', 'away.', 'Oh,', 'I', 'believe', 'in', 'yesterday.', 'Mm', 'mm', 'mm', 'mm', 'mm', 'mm', 'mm']\n"
          ]
        }
      ]
    },
    {
      "cell_type": "code",
      "source": [
        "                                 #t--> ['Yesterday', 'all', 'my', 'troubles', 'seemed', 'so', 'far', 'away.', 'Now', 'it', 'looks', 'as', 'though',\n",
        "s = [[w.upper(),w.lower(),len(w)] for w in t]\n",
        "print(s)"
      ],
      "metadata": {
        "colab": {
          "base_uri": "https://localhost:8080/"
        },
        "id": "CM7pYQxohojA",
        "outputId": "147d17b8-c2f5-46e1-cee8-231ec55527e6"
      },
      "execution_count": null,
      "outputs": [
        {
          "output_type": "stream",
          "name": "stdout",
          "text": [
            "[['YESTERDAY', 'yesterday', 9], ['ALL', 'all', 3], ['MY', 'my', 2], ['TROUBLES', 'troubles', 8], ['SEEMED', 'seemed', 6], ['SO', 'so', 2], ['FAR', 'far', 3], ['AWAY.', 'away.', 5], ['NOW', 'now', 3], ['IT', 'it', 2], ['LOOKS', 'looks', 5], ['AS', 'as', 2], ['THOUGH', 'though', 6], [\"THEY'RE\", \"they're\", 7], ['HERE', 'here', 4], ['TO', 'to', 2], ['STAY.', 'stay.', 5], ['OH,', 'oh,', 3], ['I', 'i', 1], ['BELIEVE', 'believe', 7], ['IN', 'in', 2], ['YESTERDAY.', 'yesterday.', 10], ['SUDDENLY', 'suddenly', 8], [\"I'M\", \"i'm\", 3], ['NOT', 'not', 3], ['HALF', 'half', 4], ['THE', 'the', 3], ['MAN', 'man', 3], ['I', 'i', 1], ['USED', 'used', 4], ['TO', 'to', 2], ['BE.', 'be.', 3], [\"THERE'S\", \"there's\", 7], ['A', 'a', 1], ['SHADOW', 'shadow', 6], ['HANGING', 'hanging', 7], ['OVER', 'over', 4], ['ME.', 'me.', 3], ['OH,', 'oh,', 3], ['YESTERDAY', 'yesterday', 9], ['CAME', 'came', 4], ['SUDDENLY.', 'suddenly.', 9], ['WHY', 'why', 3], ['SHE', 'she', 3], ['HAD', 'had', 3], ['TO', 'to', 2], ['GO,', 'go,', 3], ['I', 'i', 1], [\"DON'T\", \"don't\", 5], ['KNOW,', 'know,', 5], ['SHE', 'she', 3], [\"WOULDN'T\", \"wouldn't\", 8], ['SAY.', 'say.', 4], ['I', 'i', 1], ['SAID', 'said', 4], ['SOMETHING', 'something', 9], ['WRONG,', 'wrong,', 6], ['NOW', 'now', 3], ['I', 'i', 1], ['LONG', 'long', 4], ['FOR', 'for', 3], ['YESTERDAY.', 'yesterday.', 10], ['YESTERDAY', 'yesterday', 9], ['LOVE', 'love', 4], ['WAS', 'was', 3], ['SUCH', 'such', 4], ['AN', 'an', 2], ['EASY', 'easy', 4], ['GAME', 'game', 4], ['TO', 'to', 2], ['PLAY.', 'play.', 5], ['NOW', 'now', 3], ['I', 'i', 1], ['NEED', 'need', 4], ['A', 'a', 1], ['PLACE', 'place', 5], ['TO', 'to', 2], ['HIDE', 'hide', 4], ['AWAY.', 'away.', 5], ['OH,', 'oh,', 3], ['I', 'i', 1], ['BELIEVE', 'believe', 7], ['IN', 'in', 2], ['YESTERDAY.', 'yesterday.', 10], ['WHY', 'why', 3], ['SHE', 'she', 3], ['HAD', 'had', 3], ['TO', 'to', 2], ['GO,', 'go,', 3], ['I', 'i', 1], [\"DON'T\", \"don't\", 5], ['KNOW,', 'know,', 5], ['SHE', 'she', 3], [\"WOULDN'T\", \"wouldn't\", 8], ['SAY.', 'say.', 4], ['I', 'i', 1], ['SAID', 'said', 4], ['SOMETHING', 'something', 9], ['WRONG,', 'wrong,', 6], ['NOW', 'now', 3], ['I', 'i', 1], ['LONG', 'long', 4], ['FOR', 'for', 3], ['YESTERDAY.', 'yesterday.', 10], ['YESTERDAY', 'yesterday', 9], ['LOVE', 'love', 4], ['WAS', 'was', 3], ['SUCH', 'such', 4], ['AN', 'an', 2], ['EASY', 'easy', 4], ['GAME', 'game', 4], ['TO', 'to', 2], ['PLAY.', 'play.', 5], ['NOW', 'now', 3], ['I', 'i', 1], ['NEED', 'need', 4], ['A', 'a', 1], ['PLACE', 'place', 5], ['TO', 'to', 2], ['HIDE', 'hide', 4], ['AWAY.', 'away.', 5], ['OH,', 'oh,', 3], ['I', 'i', 1], ['BELIEVE', 'believe', 7], ['IN', 'in', 2], ['YESTERDAY.', 'yesterday.', 10], ['MM', 'mm', 2], ['MM', 'mm', 2], ['MM', 'mm', 2], ['MM', 'mm', 2], ['MM', 'mm', 2], ['MM', 'mm', 2], ['MM', 'mm', 2]]\n"
          ]
        }
      ]
    },
    {
      "cell_type": "code",
      "source": [
        "d = {i:v for i,v in enumerate(s)}\n",
        "print(d)"
      ],
      "metadata": {
        "colab": {
          "base_uri": "https://localhost:8080/"
        },
        "id": "2sfsUJUskRNa",
        "outputId": "f6ff1dde-d0c0-4cad-cc4c-47a0548315bc"
      },
      "execution_count": null,
      "outputs": [
        {
          "output_type": "stream",
          "name": "stdout",
          "text": [
            "{0: ['YESTERDAY', 'yesterday', 9], 1: ['ALL', 'all', 3], 2: ['MY', 'my', 2], 3: ['TROUBLES', 'troubles', 8], 4: ['SEEMED', 'seemed', 6], 5: ['SO', 'so', 2], 6: ['FAR', 'far', 3], 7: ['AWAY.', 'away.', 5], 8: ['NOW', 'now', 3], 9: ['IT', 'it', 2], 10: ['LOOKS', 'looks', 5], 11: ['AS', 'as', 2], 12: ['THOUGH', 'though', 6], 13: [\"THEY'RE\", \"they're\", 7], 14: ['HERE', 'here', 4], 15: ['TO', 'to', 2], 16: ['STAY.', 'stay.', 5], 17: ['OH,', 'oh,', 3], 18: ['I', 'i', 1], 19: ['BELIEVE', 'believe', 7], 20: ['IN', 'in', 2], 21: ['YESTERDAY.', 'yesterday.', 10], 22: ['SUDDENLY', 'suddenly', 8], 23: [\"I'M\", \"i'm\", 3], 24: ['NOT', 'not', 3], 25: ['HALF', 'half', 4], 26: ['THE', 'the', 3], 27: ['MAN', 'man', 3], 28: ['I', 'i', 1], 29: ['USED', 'used', 4], 30: ['TO', 'to', 2], 31: ['BE.', 'be.', 3], 32: [\"THERE'S\", \"there's\", 7], 33: ['A', 'a', 1], 34: ['SHADOW', 'shadow', 6], 35: ['HANGING', 'hanging', 7], 36: ['OVER', 'over', 4], 37: ['ME.', 'me.', 3], 38: ['OH,', 'oh,', 3], 39: ['YESTERDAY', 'yesterday', 9], 40: ['CAME', 'came', 4], 41: ['SUDDENLY.', 'suddenly.', 9], 42: ['WHY', 'why', 3], 43: ['SHE', 'she', 3], 44: ['HAD', 'had', 3], 45: ['TO', 'to', 2], 46: ['GO,', 'go,', 3], 47: ['I', 'i', 1], 48: [\"DON'T\", \"don't\", 5], 49: ['KNOW,', 'know,', 5], 50: ['SHE', 'she', 3], 51: [\"WOULDN'T\", \"wouldn't\", 8], 52: ['SAY.', 'say.', 4], 53: ['I', 'i', 1], 54: ['SAID', 'said', 4], 55: ['SOMETHING', 'something', 9], 56: ['WRONG,', 'wrong,', 6], 57: ['NOW', 'now', 3], 58: ['I', 'i', 1], 59: ['LONG', 'long', 4], 60: ['FOR', 'for', 3], 61: ['YESTERDAY.', 'yesterday.', 10], 62: ['YESTERDAY', 'yesterday', 9], 63: ['LOVE', 'love', 4], 64: ['WAS', 'was', 3], 65: ['SUCH', 'such', 4], 66: ['AN', 'an', 2], 67: ['EASY', 'easy', 4], 68: ['GAME', 'game', 4], 69: ['TO', 'to', 2], 70: ['PLAY.', 'play.', 5], 71: ['NOW', 'now', 3], 72: ['I', 'i', 1], 73: ['NEED', 'need', 4], 74: ['A', 'a', 1], 75: ['PLACE', 'place', 5], 76: ['TO', 'to', 2], 77: ['HIDE', 'hide', 4], 78: ['AWAY.', 'away.', 5], 79: ['OH,', 'oh,', 3], 80: ['I', 'i', 1], 81: ['BELIEVE', 'believe', 7], 82: ['IN', 'in', 2], 83: ['YESTERDAY.', 'yesterday.', 10], 84: ['WHY', 'why', 3], 85: ['SHE', 'she', 3], 86: ['HAD', 'had', 3], 87: ['TO', 'to', 2], 88: ['GO,', 'go,', 3], 89: ['I', 'i', 1], 90: [\"DON'T\", \"don't\", 5], 91: ['KNOW,', 'know,', 5], 92: ['SHE', 'she', 3], 93: [\"WOULDN'T\", \"wouldn't\", 8], 94: ['SAY.', 'say.', 4], 95: ['I', 'i', 1], 96: ['SAID', 'said', 4], 97: ['SOMETHING', 'something', 9], 98: ['WRONG,', 'wrong,', 6], 99: ['NOW', 'now', 3], 100: ['I', 'i', 1], 101: ['LONG', 'long', 4], 102: ['FOR', 'for', 3], 103: ['YESTERDAY.', 'yesterday.', 10], 104: ['YESTERDAY', 'yesterday', 9], 105: ['LOVE', 'love', 4], 106: ['WAS', 'was', 3], 107: ['SUCH', 'such', 4], 108: ['AN', 'an', 2], 109: ['EASY', 'easy', 4], 110: ['GAME', 'game', 4], 111: ['TO', 'to', 2], 112: ['PLAY.', 'play.', 5], 113: ['NOW', 'now', 3], 114: ['I', 'i', 1], 115: ['NEED', 'need', 4], 116: ['A', 'a', 1], 117: ['PLACE', 'place', 5], 118: ['TO', 'to', 2], 119: ['HIDE', 'hide', 4], 120: ['AWAY.', 'away.', 5], 121: ['OH,', 'oh,', 3], 122: ['I', 'i', 1], 123: ['BELIEVE', 'believe', 7], 124: ['IN', 'in', 2], 125: ['YESTERDAY.', 'yesterday.', 10], 126: ['MM', 'mm', 2], 127: ['MM', 'mm', 2], 128: ['MM', 'mm', 2], 129: ['MM', 'mm', 2], 130: ['MM', 'mm', 2], 131: ['MM', 'mm', 2], 132: ['MM', 'mm', 2]}\n"
          ]
        }
      ]
    },
    {
      "cell_type": "markdown",
      "source": [
        "# enumerate() 함수: 리스트의 값을 추출할 때 인덱스를 붙여 함께 출력하는 방법"
      ],
      "metadata": {
        "id": "HMusOFK2ia0d"
      }
    },
    {
      "cell_type": "code",
      "source": [
        "tt = 'python is fun'\n",
        "t = tt.split()\n",
        "print(t)"
      ],
      "metadata": {
        "colab": {
          "base_uri": "https://localhost:8080/"
        },
        "id": "zwN_7MEOiAQj",
        "outputId": "a65e3f9b-2e83-4007-cf3c-d6decb766541"
      },
      "execution_count": null,
      "outputs": [
        {
          "output_type": "stream",
          "name": "stdout",
          "text": [
            "['python', 'is', 'fun']\n"
          ]
        }
      ]
    },
    {
      "cell_type": "code",
      "source": [
        "for i in enumerate(t):\n",
        "    print(i)"
      ],
      "metadata": {
        "colab": {
          "base_uri": "https://localhost:8080/"
        },
        "id": "BZqpTooRitTW",
        "outputId": "11648645-0017-4f97-e7b6-0815ce99c10f"
      },
      "execution_count": null,
      "outputs": [
        {
          "output_type": "stream",
          "name": "stdout",
          "text": [
            "(0, 'python')\n",
            "(1, 'is')\n",
            "(2, 'fun')\n"
          ]
        }
      ]
    },
    {
      "cell_type": "code",
      "source": [
        "for i,v in enumerate(t):\n",
        "    print(i,v)"
      ],
      "metadata": {
        "colab": {
          "base_uri": "https://localhost:8080/"
        },
        "id": "ADuS-TPbix_c",
        "outputId": "24b507c7-6bce-4326-a1d6-00ab280734c4"
      },
      "execution_count": null,
      "outputs": [
        {
          "output_type": "stream",
          "name": "stdout",
          "text": [
            "0 python\n",
            "1 is\n",
            "2 fun\n"
          ]
        }
      ]
    },
    {
      "cell_type": "code",
      "source": [
        "tt = 'python is fun fun fun'\n",
        "t = tt.split()\n",
        "print(t)"
      ],
      "metadata": {
        "colab": {
          "base_uri": "https://localhost:8080/"
        },
        "id": "im1MYPRhi6OI",
        "outputId": "3b658ce5-f5b8-4aa6-bb39-65c1e1fefbd4"
      },
      "execution_count": null,
      "outputs": [
        {
          "output_type": "stream",
          "name": "stdout",
          "text": [
            "['python', 'is', 'fun', 'fun', 'fun']\n"
          ]
        }
      ]
    },
    {
      "cell_type": "code",
      "source": [
        "d = {i:v for i,v in enumerate(t)}\n",
        "print(d)                          #키: 숫자, 문자열, 튜플만 가능?"
      ],
      "metadata": {
        "colab": {
          "base_uri": "https://localhost:8080/"
        },
        "id": "fFdza1Qujw8j",
        "outputId": "4085e2b9-7e0c-4e73-bb0d-d77cb40fc797"
      },
      "execution_count": null,
      "outputs": [
        {
          "output_type": "stream",
          "name": "stdout",
          "text": [
            "{0: 'python', 1: 'is', 2: 'fun', 3: 'fun', 4: 'fun'}\n"
          ]
        }
      ]
    },
    {
      "cell_type": "code",
      "source": [
        "nameList = ['김민재','손흥민','황희찬']\n",
        "backList = [4,7,11,10]\n",
        "for n, b in zip(nameList,backList):\n",
        "    print(n,b)\n",
        "\n",
        "#개수가 안 맞아도 오류는 안 남."
      ],
      "metadata": {
        "colab": {
          "base_uri": "https://localhost:8080/"
        },
        "id": "LTk9y04Qj6bt",
        "outputId": "8cb7dbba-7828-4718-e21a-1d918eadeb5c"
      },
      "execution_count": null,
      "outputs": [
        {
          "output_type": "stream",
          "name": "stdout",
          "text": [
            "김민재 4\n",
            "손흥민 7\n",
            "황희찬 11\n"
          ]
        }
      ]
    },
    {
      "cell_type": "code",
      "source": [
        "nameList = ['김민재','손흥민','황희찬']\n",
        "backList = [4,7,11,10]\n",
        "for n in zip(nameList,backList):\n",
        "    print(n)\n",
        "    # 변수를 하나로만 지정하면 튜플 형태로 나옴"
      ],
      "metadata": {
        "colab": {
          "base_uri": "https://localhost:8080/"
        },
        "id": "eTBQA1N2lL4V",
        "outputId": "78769d0a-2d8f-4f4a-8e1b-0294a9eae419"
      },
      "execution_count": null,
      "outputs": [
        {
          "output_type": "stream",
          "name": "stdout",
          "text": [
            "('김민재', 4)\n",
            "('손흥민', 7)\n",
            "('황희찬', 11)\n"
          ]
        }
      ]
    },
    {
      "cell_type": "code",
      "source": [
        "nameList = ['김민재','손흥민','황희찬']\n",
        "backList = [4,7,11,10]\n",
        "for i, (n,b) in enumerate(zip(nameList,backList)):\n",
        "    print(i,n,b)"
      ],
      "metadata": {
        "colab": {
          "base_uri": "https://localhost:8080/"
        },
        "id": "76crg6cglTap",
        "outputId": "5337a6b3-651f-4291-e6af-6176fe03ff5e"
      },
      "execution_count": null,
      "outputs": [
        {
          "output_type": "stream",
          "name": "stdout",
          "text": [
            "0 김민재 4\n",
            "1 손흥민 7\n",
            "2 황희찬 11\n"
          ]
        }
      ]
    },
    {
      "cell_type": "code",
      "source": [
        "t1 = (1,2,3)\n",
        "t2 = (10,20,30)\n",
        "t3 = (100,200,300)\n",
        "h = [x for x in zip(t1,t2,t3)]\n",
        "print(h)"
      ],
      "metadata": {
        "colab": {
          "base_uri": "https://localhost:8080/"
        },
        "id": "0Vdzn6GQlkdm",
        "outputId": "d4fe3d03-fe9a-4989-b869-e397a2373274"
      },
      "execution_count": null,
      "outputs": [
        {
          "output_type": "stream",
          "name": "stdout",
          "text": [
            "[(1, 10, 100), (2, 20, 200), (3, 30, 300)]\n"
          ]
        }
      ]
    },
    {
      "cell_type": "code",
      "source": [
        "t1 = (1,2,3)\n",
        "t2 = (10,20,30)\n",
        "t3 = (100,200,300)\n",
        "hap = [sum(x) for x in zip(t1,t2,t3)]\n",
        "print(hap)"
      ],
      "metadata": {
        "colab": {
          "base_uri": "https://localhost:8080/"
        },
        "id": "WZs0CZo5mAxu",
        "outputId": "343f2b98-fe77-463b-ee88-f801b3adf413"
      },
      "execution_count": null,
      "outputs": [
        {
          "output_type": "stream",
          "name": "stdout",
          "text": [
            "[111, 222, 333]\n"
          ]
        }
      ]
    },
    {
      "cell_type": "code",
      "source": [
        "t1 = (1,2,3)\n",
        "t2 = (10,20,30)\n",
        "t3 = (100,200,300)\n",
        "mx = [max(x) for x in zip(t1,t2,t3)]\n",
        "print(mx)"
      ],
      "metadata": {
        "colab": {
          "base_uri": "https://localhost:8080/"
        },
        "id": "8taSsZIsmWFt",
        "outputId": "49a988ce-2bf3-4f11-937a-1105221c8117"
      },
      "execution_count": null,
      "outputs": [
        {
          "output_type": "stream",
          "name": "stdout",
          "text": [
            "[100, 200, 300]\n"
          ]
        }
      ]
    },
    {
      "cell_type": "code",
      "source": [
        "t1 = (1,2,3)\n",
        "t2 = (10,20,30)\n",
        "t3 = (100,200,300)\n",
        "mn = [min(x) for x in zip(t1,t2,t3)]\n",
        "print(mn)"
      ],
      "metadata": {
        "colab": {
          "base_uri": "https://localhost:8080/"
        },
        "id": "I3OhBJC4mgjr",
        "outputId": "57566c7b-45ff-4f26-b2c9-5894497412d6"
      },
      "execution_count": null,
      "outputs": [
        {
          "output_type": "stream",
          "name": "stdout",
          "text": [
            "[1, 2, 3]\n"
          ]
        }
      ]
    },
    {
      "cell_type": "code",
      "source": [
        "avg = [sum(x)/3 for x in zip(t1,t2,t3)]\n",
        "print(avg)                                #이런거 퀴즈나 중간고사에 나옴"
      ],
      "metadata": {
        "colab": {
          "base_uri": "https://localhost:8080/"
        },
        "id": "RVcygXcfmkL0",
        "outputId": "8d903e8e-d844-4957-8ae6-fc88d9ac3359"
      },
      "execution_count": null,
      "outputs": [
        {
          "output_type": "stream",
          "name": "stdout",
          "text": [
            "[37.0, 74.0, 111.0]\n"
          ]
        }
      ]
    },
    {
      "cell_type": "markdown",
      "source": [
        "# 클래스"
      ],
      "metadata": {
        "id": "q2N--TBhotR_"
      }
    },
    {
      "cell_type": "code",
      "source": [
        "class SoccerPlayer(object):\n",
        "    def __init__(self, name, position, back_number):\n",
        "        self.name = name\n",
        "        self.position = position\n",
        "        self.back_number = back_number\n",
        "    def change_back_number(self, new_number):\n",
        "        print('선수의 등번호를 변경한다: From %d to %d'%(self.back_number,new_number))\n",
        "        self.back_number = new_number\n",
        "\n",
        "jin = SoccerPlayer('Jinhyun','MF',10)\n",
        "son = SoccerPlayer('Min','Mf',7)\n",
        "print('첫 번째 선수의 등번호는:', jin.back_number)\n",
        "print('두 번째 선수의 등번호는',son.back_number)\n"
      ],
      "metadata": {
        "colab": {
          "base_uri": "https://localhost:8080/"
        },
        "id": "vgtsFFTet2oC",
        "outputId": "0973b352-a727-4599-d252-f75da4228bc5"
      },
      "execution_count": null,
      "outputs": [
        {
          "output_type": "stream",
          "name": "stdout",
          "text": [
            "첫 번째 선수의 등번호는: 10\n",
            "두 번째 선수의 등번호는 7\n"
          ]
        }
      ]
    },
    {
      "cell_type": "code",
      "source": [
        "jin.change_back_number(5)"
      ],
      "metadata": {
        "colab": {
          "base_uri": "https://localhost:8080/"
        },
        "id": "S0V99So5vEjY",
        "outputId": "20e8b83c-391a-4c51-ee39-17b7c9441b37"
      },
      "execution_count": null,
      "outputs": [
        {
          "output_type": "stream",
          "name": "stdout",
          "text": [
            "선수의 등번호를 변경한다: From 10 to 5\n"
          ]
        }
      ]
    },
    {
      "cell_type": "code",
      "source": [
        "print('첫 번째 선수의 현재 등번호는',jin.back_number)"
      ],
      "metadata": {
        "colab": {
          "base_uri": "https://localhost:8080/"
        },
        "id": "P35WLj2bsVXg",
        "outputId": "abb5afb0-356a-4c62-87ed-a01b68c3b796"
      },
      "execution_count": null,
      "outputs": [
        {
          "output_type": "stream",
          "name": "stdout",
          "text": [
            "첫 번째 선수의 현재 등번호는 5\n"
          ]
        }
      ]
    },
    {
      "cell_type": "code",
      "source": [
        "class SoccerPlayer(object):\n",
        "    def __init__(self, name, position, back_number):\n",
        "        self.name = name\n",
        "        self.position = position\n",
        "        self.back_number = back_number\n",
        "    def change_back_number(self, new_number):\n",
        "        print('선수의 등번호를 변경한다: From %d to %d'%(self.back_number,new_number))\n",
        "        self.back_number = new_number\n",
        "\n",
        "    def __str__(self):\n",
        "        return 'Hello, My name is %s. I play in %s in center.'%(self.name, self.position)\n",
        "\n",
        "jin = SoccerPlayer('Jinhyun','MF',10)\n",
        "print(jin)"
      ],
      "metadata": {
        "colab": {
          "base_uri": "https://localhost:8080/"
        },
        "id": "885G1yp1vmXa",
        "outputId": "34d73f25-27ed-41c7-bd0c-77c47116b0a3"
      },
      "execution_count": null,
      "outputs": [
        {
          "output_type": "stream",
          "name": "stdout",
          "text": [
            "Hello, My name is Jinhyun. I play in MF in center.\n"
          ]
        }
      ]
    }
  ]
}